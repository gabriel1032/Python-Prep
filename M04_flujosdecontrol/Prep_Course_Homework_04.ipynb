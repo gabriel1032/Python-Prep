{
 "cells": [
  {
   "attachments": {},
   "cell_type": "markdown",
   "metadata": {},
   "source": [
    "## Flujos de Control"
   ]
  },
  {
   "attachments": {},
   "cell_type": "markdown",
   "metadata": {},
   "source": [
    "1) Crear una variable que contenga un elemento del conjunto de números enteros y luego imprimir por pantalla si es mayor o menor a cero"
   ]
  },
  {
   "cell_type": "code",
   "execution_count": 1,
   "metadata": {},
   "outputs": [
    {
     "name": "stdout",
     "output_type": "stream",
     "text": [
      "el numero -5 es menor que cero\n"
     ]
    }
   ],
   "source": [
    "x = -5\n",
    "if x<0:\n",
    "    print('el numero',x,'es menor que cero')\n",
    "elif x>0:\n",
    "    print('el numero',x,'es mayor que cero')\n",
    "else:\n",
    "     print('el numero',x,'es igual a cero')"
   ]
  },
  {
   "attachments": {},
   "cell_type": "markdown",
   "metadata": {},
   "source": [
    "2) Crear dos variables y un condicional que informe si son del mismo tipo de dato"
   ]
  },
  {
   "cell_type": "code",
   "execution_count": 2,
   "metadata": {},
   "outputs": [
    {
     "name": "stdout",
     "output_type": "stream",
     "text": [
      "Son los mismo typo de datos\n"
     ]
    }
   ],
   "source": [
    "a = 2\n",
    "b = 5\n",
    "if (type(a) == type(b)):\n",
    "    print('Son los mismo typo de datos')\n",
    "else:\n",
    "      print('No son los mismo typo de datos')"
   ]
  },
  {
   "attachments": {},
   "cell_type": "markdown",
   "metadata": {},
   "source": [
    "3) Para los valores enteros del 1 al 20, imprimir por pantalla si es par o impar"
   ]
  },
  {
   "cell_type": "code",
   "execution_count": 3,
   "metadata": {},
   "outputs": [
    {
     "name": "stdout",
     "output_type": "stream",
     "text": [
      "el numero 1 es inpar \n",
      "el numero 2 es par \n",
      "el numero 3 es inpar \n",
      "el numero 4 es par \n",
      "el numero 5 es inpar \n",
      "el numero 6 es par \n",
      "el numero 7 es inpar \n",
      "el numero 8 es par \n",
      "el numero 9 es inpar \n",
      "el numero 10 es par \n",
      "el numero 11 es inpar \n",
      "el numero 12 es par \n",
      "el numero 13 es inpar \n",
      "el numero 14 es par \n",
      "el numero 15 es inpar \n",
      "el numero 16 es par \n",
      "el numero 17 es inpar \n",
      "el numero 18 es par \n",
      "el numero 19 es inpar \n",
      "el numero 20 es par \n"
     ]
    }
   ],
   "source": [
    "for i in range(1,21):\n",
    "    if i % 2 == 0:\n",
    "        print(f'el numero {i} es par ')\n",
    "    else:\n",
    "        print(f'el numero {i} es inpar ')"
   ]
  },
  {
   "attachments": {},
   "cell_type": "markdown",
   "metadata": {},
   "source": [
    "4) En un ciclo for mostrar para los valores entre 0 y 5 el resultado de elevarlo a la potencia igual a 3"
   ]
  },
  {
   "cell_type": "code",
   "execution_count": 4,
   "metadata": {},
   "outputs": [
    {
     "name": "stdout",
     "output_type": "stream",
     "text": [
      "el nuemero 0 elevado a el exponente 3 es igual a 0\n",
      "el nuemero 1 elevado a el exponente 3 es igual a 1\n",
      "el nuemero 2 elevado a el exponente 3 es igual a 8\n",
      "el nuemero 3 elevado a el exponente 3 es igual a 27\n",
      "el nuemero 4 elevado a el exponente 3 es igual a 64\n",
      "el nuemero 5 elevado a el exponente 3 es igual a 125\n"
     ]
    }
   ],
   "source": [
    "for i in range(0,6):\n",
    "    exponete = i**3\n",
    "    print(f'el nuemero {i} elevado a el exponente 3 es igual a {exponete}')"
   ]
  },
  {
   "attachments": {},
   "cell_type": "markdown",
   "metadata": {},
   "source": [
    "5) Crear una variable que contenga un número entero y realizar un ciclo for la misma cantidad de ciclos"
   ]
  },
  {
   "cell_type": "code",
   "execution_count": 5,
   "metadata": {},
   "outputs": [
    {
     "name": "stdout",
     "output_type": "stream",
     "text": [
      "10\n"
     ]
    }
   ],
   "source": [
    "a = 10\n",
    "for i in range(1,a+1):\n",
    "    pass\n",
    "print(i)"
   ]
  },
  {
   "attachments": {},
   "cell_type": "markdown",
   "metadata": {},
   "source": [
    "6) Utilizar un ciclo while para realizar el factorial de un número guardado en una variable, sólo si la variable contiene un número entero mayor a 0"
   ]
  },
  {
   "cell_type": "code",
   "execution_count": 6,
   "metadata": {},
   "outputs": [
    {
     "name": "stdout",
     "output_type": "stream",
     "text": [
      "Elfactorial es 24\n"
     ]
    }
   ],
   "source": [
    "num = 4\n",
    "if(type(num) == int):\n",
    "    if(num > 0):\n",
    "        fac = num\n",
    "        while (num > 2):\n",
    "            num -= 1\n",
    "            fac = num * fac \n",
    "        print(f'Elfactorial es {fac}')\n",
    "    else:\n",
    "        print('El numero no es mayor que cero')\n",
    "\n",
    "else:\n",
    "    print('El numero no es un entero')"
   ]
  },
  {
   "attachments": {},
   "cell_type": "markdown",
   "metadata": {},
   "source": [
    "7) Crear un ciclo for dentro de un ciclo while"
   ]
  },
  {
   "cell_type": "code",
   "execution_count": null,
   "metadata": {},
   "outputs": [],
   "source": []
  },
  {
   "attachments": {},
   "cell_type": "markdown",
   "metadata": {},
   "source": [
    "8) Crear un ciclo while dentro de un ciclo for"
   ]
  },
  {
   "cell_type": "code",
   "execution_count": null,
   "metadata": {},
   "outputs": [],
   "source": [
    "sumaNumeros = 0\n",
    "for i in range(1,8):\n",
    "    print(f'Estos son los numero del ciclo for: {i}')\n",
    "    j = 1\n",
    "    while j <= i:\n",
    "        sumaNumeros += j\n",
    "        j += 1\n",
    "print('La suma total de los numeros en el rango es:',sumaNumeros)"
   ]
  },
  {
   "attachments": {},
   "cell_type": "markdown",
   "metadata": {},
   "source": [
    "9) Imprimir los números primos existentes entre 0 y 30"
   ]
  },
  {
   "cell_type": "code",
   "execution_count": null,
   "metadata": {},
   "outputs": [],
   "source": []
  },
  {
   "attachments": {},
   "cell_type": "markdown",
   "metadata": {},
   "source": [
    "10) ¿Se puede mejorar el proceso del punto 9? Utilizar las sentencias break y/ó continue para tal fin"
   ]
  },
  {
   "cell_type": "code",
   "execution_count": null,
   "metadata": {},
   "outputs": [],
   "source": []
  },
  {
   "attachments": {},
   "cell_type": "markdown",
   "metadata": {},
   "source": [
    "11) En los puntos 9 y 10, se diseño un código que encuentra números primos y además se lo optimizó. ¿Es posible saber en qué medida se optimizó?"
   ]
  },
  {
   "cell_type": "code",
   "execution_count": null,
   "metadata": {},
   "outputs": [],
   "source": []
  },
  {
   "attachments": {},
   "cell_type": "markdown",
   "metadata": {},
   "source": [
    "12) Aplicando continue, armar un ciclo while que solo imprima los valores divisibles por 12, dentro del rango de números de 100 a 300"
   ]
  },
  {
   "cell_type": "code",
   "execution_count": null,
   "metadata": {},
   "outputs": [],
   "source": []
  },
  {
   "attachments": {},
   "cell_type": "markdown",
   "metadata": {},
   "source": [
    "13) Utilizar la función **input()** que permite hacer ingresos por teclado, para encontrar números primos y dar la opción al usario de buscar el siguiente"
   ]
  },
  {
   "cell_type": "code",
   "execution_count": null,
   "metadata": {},
   "outputs": [],
   "source": []
  },
  {
   "attachments": {},
   "cell_type": "markdown",
   "metadata": {},
   "source": [
    "14) Crear un ciclo while que encuentre dentro del rango de 100 a 300 el primer número divisible por 3 y además múltiplo de 6"
   ]
  },
  {
   "cell_type": "code",
   "execution_count": null,
   "metadata": {},
   "outputs": [],
   "source": []
  }
 ],
 "metadata": {
  "interpreter": {
   "hash": "c85384e4cb51c8b72350f3a8712cc8351fdc3955e32a27f9b60c6242ab125f01"
  },
  "kernelspec": {
   "display_name": "Python 3 (ipykernel)",
   "language": "python",
   "name": "python3"
  },
  "language_info": {
   "codemirror_mode": {
    "name": "ipython",
    "version": 3
   },
   "file_extension": ".py",
   "mimetype": "text/x-python",
   "name": "python",
   "nbconvert_exporter": "python",
   "pygments_lexer": "ipython3",
   "version": "3.11.4"
  }
 },
 "nbformat": 4,
 "nbformat_minor": 4
}
