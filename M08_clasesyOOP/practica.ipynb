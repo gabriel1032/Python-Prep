{
 "cells": [
  {
   "cell_type": "code",
   "execution_count": 17,
   "metadata": {},
   "outputs": [],
   "source": [
    "class Mis_gatos:\n",
    "    # Metodo constructor \n",
    "    def __init__(self, nombre, edad, raza, sexo): #el self simpre va y de primero \n",
    "        self.nombre = nombre\n",
    "        self.edad = edad\n",
    "        self.raza = raza\n",
    "        self.sexo = sexo\n",
    "    # se hace un metodo para presentar \n",
    "    def presentar(self):\n",
    "        return print(f'Nombre: {self.nombre} Edad: {self.edad} años Raza: {self.raza} Sexo: {self.sexo}')"
   ]
  },
  {
   "cell_type": "code",
   "execution_count": 15,
   "metadata": {},
   "outputs": [],
   "source": [
    "gato1 = Mis_gatos('Pili',3,'Angola','Hembra')"
   ]
  },
  {
   "cell_type": "code",
   "execution_count": 16,
   "metadata": {},
   "outputs": [
    {
     "name": "stdout",
     "output_type": "stream",
     "text": [
      "Nombre: Pili Edad: 3 años Raza: Angola Sexo: Hembra\n"
     ]
    }
   ],
   "source": [
    "gato1.presentar()"
   ]
  },
  {
   "cell_type": "code",
   "execution_count": 23,
   "metadata": {},
   "outputs": [],
   "source": [
    "class Familia:\n",
    "    \n",
    "    def __init__(self,padre,madre,hijo,hija):\n",
    "        self.padre = padre\n",
    "        self.madre = madre\n",
    "        self.hijo = hijo\n",
    "        self.hija = hija\n",
    "        \n",
    "        \n",
    "    def presentar_familia(self):\n",
    "        return print(f'Padre: {self.padre}, Madre: {self.madre}, Hijo: {self.hijo}, Hija: {self.hija}')    "
   ]
  },
  {
   "cell_type": "code",
   "execution_count": 24,
   "metadata": {},
   "outputs": [],
   "source": [
    "mi_famili = Familia('Gabriel','Cenelys','Santiago','Maria Jose')"
   ]
  },
  {
   "cell_type": "code",
   "execution_count": 25,
   "metadata": {},
   "outputs": [
    {
     "name": "stdout",
     "output_type": "stream",
     "text": [
      "Padre: Gabriel, Madre: Cenelys, Hijo: Santiago, Hija: Maria Jose\n"
     ]
    }
   ],
   "source": [
    "mi_famili.presentar_familia()"
   ]
  },
  {
   "cell_type": "code",
   "execution_count": 39,
   "metadata": {},
   "outputs": [],
   "source": [
    "class Hijos:\n",
    "    def __init__(self,nombre,edad,sexo):\n",
    "        self.nombre = nombre\n",
    "        self.edad = edad\n",
    "        self.sexo = sexo\n",
    "        \n",
    "    def mePresento(self):\n",
    "        print(f'Hola mi nombre es {self.nombre} tengo {self.edad} años y mi sexo es {self.sexo}')  \n",
    "        \n",
    "    def cumplirAños(self):\n",
    "        self.edad = self.edad + 1      "
   ]
  },
  {
   "cell_type": "code",
   "execution_count": 40,
   "metadata": {},
   "outputs": [],
   "source": [
    "hijo1 = Hijos('santiago', 13 , 'Masculio')\n",
    "hijo2 = Hijos('Maria Jose', 4 , 'Femenino')"
   ]
  },
  {
   "cell_type": "code",
   "execution_count": 41,
   "metadata": {},
   "outputs": [
    {
     "name": "stdout",
     "output_type": "stream",
     "text": [
      "santiago\n",
      "13\n",
      "Maria Jose\n",
      "4\n"
     ]
    }
   ],
   "source": [
    "print(hijo1.nombre)\n",
    "print(hijo1.edad)\n",
    "print(hijo2.nombre)\n",
    "print(hijo2.edad)\n",
    "\n"
   ]
  },
  {
   "cell_type": "code",
   "execution_count": 42,
   "metadata": {},
   "outputs": [
    {
     "name": "stdout",
     "output_type": "stream",
     "text": [
      "Hola mi nombre es santiago tengo 13 años y mi sexo es Masculio\n"
     ]
    }
   ],
   "source": [
    "hijo1.mePresento()"
   ]
  },
  {
   "cell_type": "code",
   "execution_count": 43,
   "metadata": {},
   "outputs": [
    {
     "name": "stdout",
     "output_type": "stream",
     "text": [
      "Hola mi nombre es santiago tengo 13 años y mi sexo es Masculio\n"
     ]
    }
   ],
   "source": [
    "hijo1.mePresento()"
   ]
  },
  {
   "cell_type": "code",
   "execution_count": 49,
   "metadata": {},
   "outputs": [],
   "source": [
    "hijo1.cumplirAños()\n",
    "hijo2.cumplirAños()"
   ]
  },
  {
   "cell_type": "code",
   "execution_count": 50,
   "metadata": {},
   "outputs": [
    {
     "name": "stdout",
     "output_type": "stream",
     "text": [
      "Hola mi nombre es santiago tengo 15 años y mi sexo es Masculio\n"
     ]
    }
   ],
   "source": [
    "hijo1.mePresento()"
   ]
  },
  {
   "cell_type": "code",
   "execution_count": 51,
   "metadata": {},
   "outputs": [
    {
     "name": "stdout",
     "output_type": "stream",
     "text": [
      "Hola mi nombre es Maria Jose tengo 6 años y mi sexo es Femenino\n"
     ]
    }
   ],
   "source": [
    "hijo2.mePresento()"
   ]
  },
  {
   "cell_type": "code",
   "execution_count": 48,
   "metadata": {},
   "outputs": [],
   "source": [
    "class Animal:\n",
    "    def __init__(self,especie,edad):\n",
    "        self.especie = especie\n",
    "        self.edad = edad\n",
    "        \n",
    "    def hablar(self):\n",
    "            \n",
    "            pass\n",
    "    def moverse(self):\n",
    "            \n",
    "            pass\n",
    "        \n",
    "    def describeme(self):\n",
    "            print(f'soy un {type(self).__name__} del tipo {self.especie} y tengo {self.edad} años' )"
   ]
  },
  {
   "cell_type": "code",
   "execution_count": 49,
   "metadata": {},
   "outputs": [],
   "source": [
    "class Perro(Animal):\n",
    "    pass"
   ]
  },
  {
   "cell_type": "code",
   "execution_count": 50,
   "metadata": {},
   "outputs": [
    {
     "name": "stdout",
     "output_type": "stream",
     "text": [
      "soy un Perro del tipo mamifero y tengo 10 años\n"
     ]
    }
   ],
   "source": [
    "mi_perro = Perro('mamifero',10)\n",
    "mi_perro.describeme() "
   ]
  },
  {
   "cell_type": "code",
   "execution_count": 52,
   "metadata": {},
   "outputs": [],
   "source": [
    "class Perro(Animal):\n",
    "    def hablar(self):\n",
    "        print('guauuuuu')\n",
    "    def moverse(self):\n",
    "        print('en cuatro patas ')  "
   ]
  },
  {
   "cell_type": "code",
   "execution_count": 53,
   "metadata": {},
   "outputs": [],
   "source": [
    "class Vaca(Animal):\n",
    "    def hablar(self):\n",
    "        print('muuuuuuuu')\n",
    "    def moverse(self):\n",
    "        print('cuatro patas')    \n",
    "        "
   ]
  },
  {
   "cell_type": "code",
   "execution_count": 54,
   "metadata": {},
   "outputs": [],
   "source": [
    "class Abeja(Animal):\n",
    "    def hablar(self):\n",
    "        print('jffffffff')\n",
    "    def moverse(self):\n",
    "        print('volar')\n",
    "    def picar(self):\n",
    "        print('con la cola')\n",
    "        "
   ]
  },
  {
   "cell_type": "code",
   "execution_count": 55,
   "metadata": {},
   "outputs": [],
   "source": [
    "mi_perro = Perro('mamifero',10)\n",
    "mi_vaca = Vaca('mamifero',23)\n",
    "mi_abeja = Abeja('insecto',1)"
   ]
  },
  {
   "cell_type": "code",
   "execution_count": 56,
   "metadata": {},
   "outputs": [
    {
     "name": "stdout",
     "output_type": "stream",
     "text": [
      "muuuuuuuu\n"
     ]
    }
   ],
   "source": [
    "mi_vaca.hablar()"
   ]
  },
  {
   "cell_type": "code",
   "execution_count": 57,
   "metadata": {},
   "outputs": [
    {
     "name": "stdout",
     "output_type": "stream",
     "text": [
      "con la cola\n"
     ]
    }
   ],
   "source": [
    "mi_abeja.picar()"
   ]
  },
  {
   "cell_type": "code",
   "execution_count": 58,
   "metadata": {},
   "outputs": [
    {
     "name": "stdout",
     "output_type": "stream",
     "text": [
      "soy un Abeja del tipo insecto y tengo 1 años\n"
     ]
    }
   ],
   "source": [
    "mi_abeja.describeme()"
   ]
  },
  {
   "cell_type": "code",
   "execution_count": 111,
   "metadata": {},
   "outputs": [],
   "source": [
    "class Perro(Animal):\n",
    "    def __init__(self, especie, edad ,dueño):\n",
    "        super().__init__(especie, edad)\n",
    "        self.dueño = dueño\n",
    "    def presentar2(self):\n",
    "        print(f'El {type(self).__name__} es de tipo {self.especie} tiene {self.edad} años y el su dueños es {self.dueño}' )    "
   ]
  },
  {
   "cell_type": "code",
   "execution_count": 112,
   "metadata": {},
   "outputs": [],
   "source": [
    "nuevo_perro = Perro('mamifero', 8 , 'gabriel')"
   ]
  },
  {
   "cell_type": "code",
   "execution_count": 109,
   "metadata": {},
   "outputs": [
    {
     "name": "stdout",
     "output_type": "stream",
     "text": [
      "mamifero\n",
      "8\n",
      "gabriel\n"
     ]
    }
   ],
   "source": [
    "print(nuevo_perro.especie)\n",
    "print(nuevo_perro.edad)\n",
    "print(nuevo_perro.dueño)"
   ]
  },
  {
   "cell_type": "code",
   "execution_count": 113,
   "metadata": {},
   "outputs": [
    {
     "name": "stdout",
     "output_type": "stream",
     "text": [
      "El Perro es de tipo mamifero tiene 8 años y el su dueños es gabriel\n"
     ]
    }
   ],
   "source": [
    "nuevo_perro.presentar2()"
   ]
  },
  {
   "cell_type": "markdown",
   "metadata": {},
   "source": [
    "# Importando modulos "
   ]
  },
  {
   "cell_type": "code",
   "execution_count": 116,
   "metadata": {},
   "outputs": [
    {
     "name": "stdout",
     "output_type": "stream",
     "text": [
      "12\n",
      "\n",
      "4\n",
      "\n",
      "32\n",
      "\n",
      "2\n"
     ]
    }
   ],
   "source": [
    "import miModulo\n",
    "\n",
    "print(miModulo.suma(8,4))\n",
    "print()\n",
    "print(miModulo.resta(8,4))\n",
    "print()\n",
    "print(miModulo.multipli(8,4))\n",
    "print()\n",
    "print(int(miModulo.divi(8,4)))"
   ]
  },
  {
   "cell_type": "code",
   "execution_count": 119,
   "metadata": {},
   "outputs": [
    {
     "name": "stdout",
     "output_type": "stream",
     "text": [
      "10\n"
     ]
    }
   ],
   "source": [
    "from miModulo import suma\n",
    "print(suma(5,5))"
   ]
  },
  {
   "cell_type": "code",
   "execution_count": 120,
   "metadata": {},
   "outputs": [
    {
     "name": "stdout",
     "output_type": "stream",
     "text": [
      "25\n"
     ]
    }
   ],
   "source": [
    "from miModulo import *\n",
    "\n",
    "print(multipli(5,5))"
   ]
  },
  {
   "cell_type": "code",
   "execution_count": 124,
   "metadata": {},
   "outputs": [
    {
     "name": "stdout",
     "output_type": "stream",
     "text": [
      "Hola\n",
      "None\n"
     ]
    }
   ],
   "source": [
    "from carpetaPractica.modulo import *\n",
    "\n",
    "print(saludar())"
   ]
  }
 ],
 "metadata": {
  "kernelspec": {
   "display_name": "Python 3",
   "language": "python",
   "name": "python3"
  },
  "language_info": {
   "codemirror_mode": {
    "name": "ipython",
    "version": 3
   },
   "file_extension": ".py",
   "mimetype": "text/x-python",
   "name": "python",
   "nbconvert_exporter": "python",
   "pygments_lexer": "ipython3",
   "version": "3.11.4"
  },
  "orig_nbformat": 4
 },
 "nbformat": 4,
 "nbformat_minor": 2
}
