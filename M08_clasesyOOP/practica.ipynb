{
 "cells": [
  {
   "cell_type": "code",
   "execution_count": 17,
   "metadata": {},
   "outputs": [],
   "source": [
    "class Mis_gatos:\n",
    "    # Metodo constructor \n",
    "    def __init__(self, nombre, edad, raza, sexo): #el self simpre va y de primero \n",
    "        self.nombre = nombre\n",
    "        self.edad = edad\n",
    "        self.raza = raza\n",
    "        self.sexo = sexo\n",
    "    # se hace un metodo para presentar \n",
    "    def presentar(self):\n",
    "        return print(f'Nombre: {self.nombre} Edad: {self.edad} años Raza: {self.raza} Sexo: {self.sexo}')"
   ]
  },
  {
   "cell_type": "code",
   "execution_count": 15,
   "metadata": {},
   "outputs": [],
   "source": [
    "gato1 = Mis_gatos('Pili',3,'Angola','Hembra')"
   ]
  },
  {
   "cell_type": "code",
   "execution_count": 16,
   "metadata": {},
   "outputs": [
    {
     "name": "stdout",
     "output_type": "stream",
     "text": [
      "Nombre: Pili Edad: 3 años Raza: Angola Sexo: Hembra\n"
     ]
    }
   ],
   "source": [
    "gato1.presentar()"
   ]
  },
  {
   "cell_type": "code",
   "execution_count": 23,
   "metadata": {},
   "outputs": [],
   "source": [
    "class Familia:\n",
    "    \n",
    "    def __init__(self,padre,madre,hijo,hija):\n",
    "        self.padre = padre\n",
    "        self.madre = madre\n",
    "        self.hijo = hijo\n",
    "        self.hija = hija\n",
    "        \n",
    "        \n",
    "    def presentar_familia(self):\n",
    "        return print(f'Padre: {self.padre}, Madre: {self.madre}, Hijo: {self.hijo}, Hija: {self.hija}')    "
   ]
  },
  {
   "cell_type": "code",
   "execution_count": 24,
   "metadata": {},
   "outputs": [],
   "source": [
    "mi_famili = Familia('Gabriel','Cenelys','Santiago','Maria Jose')"
   ]
  },
  {
   "cell_type": "code",
   "execution_count": 25,
   "metadata": {},
   "outputs": [
    {
     "name": "stdout",
     "output_type": "stream",
     "text": [
      "Padre: Gabriel, Madre: Cenelys, Hijo: Santiago, Hija: Maria Jose\n"
     ]
    }
   ],
   "source": [
    "mi_famili.presentar_familia()"
   ]
  },
  {
   "cell_type": "code",
   "execution_count": 39,
   "metadata": {},
   "outputs": [],
   "source": [
    "class Hijos:\n",
    "    def __init__(self,nombre,edad,sexo):\n",
    "        self.nombre = nombre\n",
    "        self.edad = edad\n",
    "        self.sexo = sexo\n",
    "        \n",
    "    def mePresento(self):\n",
    "        print(f'Hola mi nombre es {self.nombre} tengo {self.edad} años y mi sexo es {self.sexo}')  \n",
    "        \n",
    "    def cumplirAños(self):\n",
    "        self.edad = self.edad + 1      "
   ]
  },
  {
   "cell_type": "code",
   "execution_count": 40,
   "metadata": {},
   "outputs": [],
   "source": [
    "hijo1 = Hijos('santiago', 13 , 'Masculio')\n",
    "hijo2 = Hijos('Maria Jose', 4 , 'Femenino')"
   ]
  },
  {
   "cell_type": "code",
   "execution_count": 41,
   "metadata": {},
   "outputs": [
    {
     "name": "stdout",
     "output_type": "stream",
     "text": [
      "santiago\n",
      "13\n",
      "Maria Jose\n",
      "4\n"
     ]
    }
   ],
   "source": [
    "print(hijo1.nombre)\n",
    "print(hijo1.edad)\n",
    "print(hijo2.nombre)\n",
    "print(hijo2.edad)\n",
    "\n"
   ]
  },
  {
   "cell_type": "code",
   "execution_count": 42,
   "metadata": {},
   "outputs": [
    {
     "name": "stdout",
     "output_type": "stream",
     "text": [
      "Hola mi nombre es santiago tengo 13 años y mi sexo es Masculio\n"
     ]
    }
   ],
   "source": [
    "hijo1.mePresento()"
   ]
  },
  {
   "cell_type": "code",
   "execution_count": 43,
   "metadata": {},
   "outputs": [
    {
     "name": "stdout",
     "output_type": "stream",
     "text": [
      "Hola mi nombre es santiago tengo 13 años y mi sexo es Masculio\n"
     ]
    }
   ],
   "source": [
    "hijo1.mePresento()"
   ]
  },
  {
   "cell_type": "code",
   "execution_count": 49,
   "metadata": {},
   "outputs": [],
   "source": [
    "hijo1.cumplirAños()\n",
    "hijo2.cumplirAños()"
   ]
  },
  {
   "cell_type": "code",
   "execution_count": 50,
   "metadata": {},
   "outputs": [
    {
     "name": "stdout",
     "output_type": "stream",
     "text": [
      "Hola mi nombre es santiago tengo 15 años y mi sexo es Masculio\n"
     ]
    }
   ],
   "source": [
    "hijo1.mePresento()"
   ]
  },
  {
   "cell_type": "code",
   "execution_count": 51,
   "metadata": {},
   "outputs": [
    {
     "name": "stdout",
     "output_type": "stream",
     "text": [
      "Hola mi nombre es Maria Jose tengo 6 años y mi sexo es Femenino\n"
     ]
    }
   ],
   "source": [
    "hijo2.mePresento()"
   ]
  }
 ],
 "metadata": {
  "kernelspec": {
   "display_name": "Python 3",
   "language": "python",
   "name": "python3"
  },
  "language_info": {
   "codemirror_mode": {
    "name": "ipython",
    "version": 3
   },
   "file_extension": ".py",
   "mimetype": "text/x-python",
   "name": "python",
   "nbconvert_exporter": "python",
   "pygments_lexer": "ipython3",
   "version": "3.11.4"
  },
  "orig_nbformat": 4
 },
 "nbformat": 4,
 "nbformat_minor": 2
}
